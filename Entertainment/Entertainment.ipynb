{
  "nbformat": 4,
  "nbformat_minor": 0,
  "metadata": {
    "colab": {
      "provenance": []
    },
    "kernelspec": {
      "name": "python3",
      "display_name": "Python 3"
    },
    "language_info": {
      "name": "python"
    }
  },
  "cells": [
    {
      "cell_type": "code",
      "execution_count": null,
      "metadata": {
        "id": "ZeJUiZx02qWs"
      },
      "outputs": [],
      "source": [
        "import os,subprocess\n",
        "import random\n",
        "import pyttsx3\n",
        "import datetime\n",
        "import speech_recognition as sr\n",
        "\n",
        "\n",
        "\n",
        "engine = pyttsx3.init('sapi5')\n",
        "voices = engine.getProperty('voices')\n",
        "\n",
        "def speak(audio):\n",
        "    engine.say(audio)\n",
        "    engine.runAndWait()\n",
        "\n",
        "\n",
        "def wishMe():\n",
        "    hour = int(datetime.datetime.now().hour)\n",
        "    if hour >=0 and hour<12:\n",
        "        speak(\"Good Morning!\")\n",
        "    elif hour >=12 and hour<18:\n",
        "        speak(\"Good Afternoon\")\n",
        "    else:\n",
        "        speak (\"Good evening\")\n",
        "    speak(\"Hello i am  your Dazzla, what can i do for you\")\n",
        "\n",
        "def takeCommand():\n",
        "\n",
        "    r = sr.Recognizer()\n",
        "    with sr.Microphone() as source:\n",
        "        print(\"Listening...\")\n",
        "        r.pause_threshold = 1\n",
        "        audio = r.listen(source)\n",
        "    try:\n",
        "        print(\"Recognizing...\")\n",
        "        query = r.recognize_google(audio,language='en-in')\n",
        "        print(f\"User said :{query}\\n\")\n",
        "    except Exception as e:\n",
        "        print(\"Say that again please...\")\n",
        "        return\"None\"\n",
        "    return query\n",
        "\n",
        "def music():\n",
        "    music_dir = 'C:\\Audio'\n",
        "    songs = os.listdir(music_dir)\n",
        "    rd = random.choice(songs)\n",
        "    os.startfile(os.path.join(music_dir, rd))\n",
        "\n",
        "def audiobooks():\n",
        "    music_dir = 'C:\\Audio_books'\n",
        "    songs = os.listdir(music_dir)\n",
        "    rd = random.choice(songs)\n",
        "    os.startfile(os.path.join(music_dir, rd))\n",
        "\n",
        "if __name__==\"__main__\":\n",
        "    wishMe()\n",
        "    while True:\n",
        "        query = takeCommand().lower()\n",
        "        if \"play music\" in query:\n",
        "            music()\n",
        "        elif \"play books\" in query:\n",
        "            audiobooks()"
      ]
    }
  ]
}