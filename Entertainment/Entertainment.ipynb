{
 "cells": [
  {
   "cell_type": "code",
   "execution_count": 1,
   "id": "09de694b",
   "metadata": {},
   "outputs": [
    {
     "name": "stdout",
     "output_type": "stream",
     "text": [
      "Listening...\n",
      "Recognizing...\n",
      "Say that again please...\n",
      "Listening...\n",
      "Recognizing...\n",
      "User said :music play music song download\n",
      "\n"
     ]
    },
    {
     "ename": "FileNotFoundError",
     "evalue": "[WinError 3] The system cannot find the path specified: 'C:\\\\Audio'",
     "output_type": "error",
     "traceback": [
      "\u001b[1;31m---------------------------------------------------------------------------\u001b[0m",
      "\u001b[1;31mFileNotFoundError\u001b[0m                         Traceback (most recent call last)",
      "Cell \u001b[1;32mIn[1], line 60\u001b[0m\n\u001b[0;32m     58\u001b[0m query \u001b[38;5;241m=\u001b[39m takeCommand()\u001b[38;5;241m.\u001b[39mlower()\n\u001b[0;32m     59\u001b[0m \u001b[38;5;28;01mif\u001b[39;00m \u001b[38;5;124m\"\u001b[39m\u001b[38;5;124mplay music\u001b[39m\u001b[38;5;124m\"\u001b[39m \u001b[38;5;129;01min\u001b[39;00m query:\n\u001b[1;32m---> 60\u001b[0m     music()\n\u001b[0;32m     61\u001b[0m \u001b[38;5;28;01melif\u001b[39;00m \u001b[38;5;124m\"\u001b[39m\u001b[38;5;124mplay books\u001b[39m\u001b[38;5;124m\"\u001b[39m \u001b[38;5;129;01min\u001b[39;00m query:\n\u001b[0;32m     62\u001b[0m     audiobooks()\n",
      "Cell \u001b[1;32mIn[1], line 45\u001b[0m, in \u001b[0;36mmusic\u001b[1;34m()\u001b[0m\n\u001b[0;32m     43\u001b[0m \u001b[38;5;28;01mdef\u001b[39;00m \u001b[38;5;21mmusic\u001b[39m():\n\u001b[0;32m     44\u001b[0m     music_dir \u001b[38;5;241m=\u001b[39m \u001b[38;5;124m'\u001b[39m\u001b[38;5;124mC:\u001b[39m\u001b[38;5;124m\\\u001b[39m\u001b[38;5;124mAudio\u001b[39m\u001b[38;5;124m'\u001b[39m\n\u001b[1;32m---> 45\u001b[0m     songs \u001b[38;5;241m=\u001b[39m os\u001b[38;5;241m.\u001b[39mlistdir(music_dir)\n\u001b[0;32m     46\u001b[0m     rd \u001b[38;5;241m=\u001b[39m random\u001b[38;5;241m.\u001b[39mchoice(songs) \n\u001b[0;32m     47\u001b[0m     os\u001b[38;5;241m.\u001b[39mstartfile(os\u001b[38;5;241m.\u001b[39mpath\u001b[38;5;241m.\u001b[39mjoin(music_dir, rd))\n",
      "\u001b[1;31mFileNotFoundError\u001b[0m: [WinError 3] The system cannot find the path specified: 'C:\\\\Audio'"
     ]
    }
   ],
   "source": [
    "import os,subprocess\n",
    "import random\n",
    "import pyttsx3\n",
    "import datetime\n",
    "import speech_recognition as sr\n",
    "\n",
    "\n",
    "\n",
    "engine = pyttsx3.init('sapi5')\n",
    "voices = engine.getProperty('voices')\n",
    "\n",
    "def speak(audio):\n",
    "    engine.say(audio)\n",
    "    engine.runAndWait()\n",
    "\n",
    "\n",
    "def wishMe():\n",
    "    hour = int(datetime.datetime.now().hour)\n",
    "    if hour >=0 and hour<12:\n",
    "        speak(\"Good Morning!\")\n",
    "    elif hour >=12 and hour<18:\n",
    "        speak(\"Good Afternoon\")\n",
    "    else:\n",
    "        speak (\"Good evening\")\n",
    "    speak(\"Hello i am  your Dazzla, what can i do for you\")\n",
    "\n",
    "def takeCommand():\n",
    "\n",
    "    r = sr.Recognizer()\n",
    "    with sr.Microphone() as source:\n",
    "        print(\"Listening...\")\n",
    "        r.pause_threshold = 1\n",
    "        audio = r.listen(source)\n",
    "    try:\n",
    "        print(\"Recognizing...\")\n",
    "        query = r.recognize_google(audio,language='en-in')\n",
    "        print(f\"User said :{query}\\n\")\n",
    "    except Exception as e:\n",
    "        print(\"Say that again please...\")\n",
    "        return\"None\"\n",
    "    return query\n",
    "\n",
    "def music():\n",
    "    music_dir = 'C:\\Audio'\n",
    "    songs = os.listdir(music_dir)\n",
    "    rd = random.choice(songs) \n",
    "    os.startfile(os.path.join(music_dir, rd))\n",
    "\n",
    "def audiobooks():\n",
    "    music_dir = 'C:\\Audio_books'\n",
    "    songs = os.listdir(music_dir)\n",
    "    rd = random.choice(songs) \n",
    "    os.startfile(os.path.join(music_dir, rd))\n",
    "\n",
    "if __name__==\"__main__\":\n",
    "    wishMe()\n",
    "    while True:\n",
    "        query = takeCommand().lower()\n",
    "        if \"play music\" in query:\n",
    "            music()\n",
    "        elif \"play books\" in query:\n",
    "            audiobooks()"
   ]
  },
  {
   "cell_type": "code",
   "execution_count": null,
   "id": "fd362b1b",
   "metadata": {},
   "outputs": [],
   "source": []
  }
 ],
 "metadata": {
  "kernelspec": {
   "display_name": "Python 3 (ipykernel)",
   "language": "python",
   "name": "python3"
  },
  "language_info": {
   "codemirror_mode": {
    "name": "ipython",
    "version": 3
   },
   "file_extension": ".py",
   "mimetype": "text/x-python",
   "name": "python",
   "nbconvert_exporter": "python",
   "pygments_lexer": "ipython3",
   "version": "3.11.5"
  }
 },
 "nbformat": 4,
 "nbformat_minor": 5
}
