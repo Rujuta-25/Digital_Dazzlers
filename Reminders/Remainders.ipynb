{
 "cells": [
  {
   "cell_type": "code",
   "execution_count": 1,
   "id": "e39fd5ea",
   "metadata": {},
   "outputs": [
    {
     "name": "stdout",
     "output_type": "stream",
     "text": [
      "Requirement already satisfied: pyttsx3 in c:\\users\\prave\\anaconda3\\lib\\site-packages (2.90)\n",
      "Requirement already satisfied: comtypes in c:\\users\\prave\\anaconda3\\lib\\site-packages (from pyttsx3) (1.3.1)\n",
      "Requirement already satisfied: pypiwin32 in c:\\users\\prave\\anaconda3\\lib\\site-packages (from pyttsx3) (223)\n",
      "Requirement already satisfied: pywin32 in c:\\users\\prave\\anaconda3\\lib\\site-packages (from pyttsx3) (305.1)\n",
      "Requirement already satisfied: SpeechRecognition in c:\\users\\prave\\anaconda3\\lib\\site-packages (3.10.3)\n",
      "Requirement already satisfied: requests>=2.26.0 in c:\\users\\prave\\anaconda3\\lib\\site-packages (from SpeechRecognition) (2.31.0)\n",
      "Requirement already satisfied: typing-extensions in c:\\users\\prave\\anaconda3\\lib\\site-packages (from SpeechRecognition) (4.7.1)\n",
      "Requirement already satisfied: charset-normalizer<4,>=2 in c:\\users\\prave\\anaconda3\\lib\\site-packages (from requests>=2.26.0->SpeechRecognition) (2.0.4)\n",
      "Requirement already satisfied: idna<4,>=2.5 in c:\\users\\prave\\anaconda3\\lib\\site-packages (from requests>=2.26.0->SpeechRecognition) (3.4)\n",
      "Requirement already satisfied: urllib3<3,>=1.21.1 in c:\\users\\prave\\anaconda3\\lib\\site-packages (from requests>=2.26.0->SpeechRecognition) (1.26.16)\n",
      "Requirement already satisfied: certifi>=2017.4.17 in c:\\users\\prave\\anaconda3\\lib\\site-packages (from requests>=2.26.0->SpeechRecognition) (2023.7.22)\n"
     ]
    },
    {
     "name": "stderr",
     "output_type": "stream",
     "text": [
      "ERROR: Could not find a version that satisfies the requirement time (from versions: none)\n",
      "ERROR: No matching distribution found for time\n"
     ]
    },
    {
     "name": "stdout",
     "output_type": "stream",
     "text": [
      "Requirement already satisfied: datetime in c:\\users\\prave\\anaconda3\\lib\\site-packages (5.5)\n",
      "Requirement already satisfied: zope.interface in c:\\users\\prave\\anaconda3\\lib\\site-packages (from datetime) (5.4.0)\n",
      "Requirement already satisfied: pytz in c:\\users\\prave\\anaconda3\\lib\\site-packages (from datetime) (2023.3.post1)\n",
      "Requirement already satisfied: setuptools in c:\\users\\prave\\anaconda3\\lib\\site-packages (from zope.interface->datetime) (68.0.0)\n",
      "Requirement already satisfied: wikipedia in c:\\users\\prave\\anaconda3\\lib\\site-packages (1.4.0)\n",
      "Requirement already satisfied: beautifulsoup4 in c:\\users\\prave\\anaconda3\\lib\\site-packages (from wikipedia) (4.12.2)\n",
      "Requirement already satisfied: requests<3.0.0,>=2.0.0 in c:\\users\\prave\\anaconda3\\lib\\site-packages (from wikipedia) (2.31.0)\n",
      "Requirement already satisfied: charset-normalizer<4,>=2 in c:\\users\\prave\\anaconda3\\lib\\site-packages (from requests<3.0.0,>=2.0.0->wikipedia) (2.0.4)\n",
      "Requirement already satisfied: idna<4,>=2.5 in c:\\users\\prave\\anaconda3\\lib\\site-packages (from requests<3.0.0,>=2.0.0->wikipedia) (3.4)\n",
      "Requirement already satisfied: urllib3<3,>=1.21.1 in c:\\users\\prave\\anaconda3\\lib\\site-packages (from requests<3.0.0,>=2.0.0->wikipedia) (1.26.16)\n",
      "Requirement already satisfied: certifi>=2017.4.17 in c:\\users\\prave\\anaconda3\\lib\\site-packages (from requests<3.0.0,>=2.0.0->wikipedia) (2023.7.22)\n",
      "Requirement already satisfied: soupsieve>1.2 in c:\\users\\prave\\anaconda3\\lib\\site-packages (from beautifulsoup4->wikipedia) (2.4)\n",
      "Requirement already satisfied: requests in c:\\users\\prave\\anaconda3\\lib\\site-packages (2.31.0)\n",
      "Requirement already satisfied: charset-normalizer<4,>=2 in c:\\users\\prave\\anaconda3\\lib\\site-packages (from requests) (2.0.4)\n",
      "Requirement already satisfied: idna<4,>=2.5 in c:\\users\\prave\\anaconda3\\lib\\site-packages (from requests) (3.4)\n",
      "Requirement already satisfied: urllib3<3,>=1.21.1 in c:\\users\\prave\\anaconda3\\lib\\site-packages (from requests) (1.26.16)\n",
      "Requirement already satisfied: certifi>=2017.4.17 in c:\\users\\prave\\anaconda3\\lib\\site-packages (from requests) (2023.7.22)\n"
     ]
    }
   ],
   "source": [
    "!pip install pyttsx3\n",
    "!pip install SpeechRecognition\n",
    "!pip install time\n",
    "!pip install datetime\n",
    "!pip install wikipedia\n",
    "!pip install requests"
   ]
  },
  {
   "cell_type": "code",
   "execution_count": 2,
   "id": "43a7fa4b",
   "metadata": {},
   "outputs": [],
   "source": [
    "import pyttsx3\n",
    "import speech_recognition as sr\n",
    "import time\n",
    "import datetime\n",
    "import wikipedia\n",
    "import requests\n",
    "from bs4 import BeautifulSoup"
   ]
  },
  {
   "cell_type": "code",
   "execution_count": null,
   "id": "7813517a",
   "metadata": {},
   "outputs": [
    {
     "name": "stdout",
     "output_type": "stream",
     "text": [
      "Listening...\n"
     ]
    }
   ],
   "source": [
    "engine = pyttsx3.init('sapi5')\n",
    "voices = engine.getProperty('voices')\n",
    "\n",
    "def speak(audio):\n",
    "    engine.say(audio)\n",
    "    engine.runAndWait()\n",
    "\n",
    "def wishMe():\n",
    "    hour = int(datetime.datetime.now().hour)\n",
    "    if hour >=0 and hour<12:\n",
    "        speak(\"Good Morning!\")\n",
    "    elif hour >=12 and hour<18:\n",
    "        speak(\"Good Afternoon\")\n",
    "    else:\n",
    "        speak (\"Good evening\")\n",
    "    speak(\"Hello i am  your Dazzla, what can i do for you\")\n",
    "\n",
    "def takeCommand():\n",
    "    r = sr.Recognizer()\n",
    "    with sr.Microphone() as source:\n",
    "        print(\"Listening...\")\n",
    "        r.pause_threshold = 1\n",
    "        audio = r.listen(source)\n",
    "    try:\n",
    "        print(\"Recognizing...\")\n",
    "        query = r.recognize_google(audio,language='en-in')\n",
    "        print(f\"User said :{query}\\n\")\n",
    "    except Exception as e:\n",
    "        print(\"Say that again please...\")\n",
    "        return\"None\"\n",
    "    return query\n",
    "\n",
    "if __name__ == \"__main__\":\n",
    "    wishMe()\n",
    "    while True:\n",
    "        query = takeCommand().lower()\n",
    "        if \"wikipedia\" in query:\n",
    "            speak('Searching Wikipedia...')\n",
    "            query = query.replace(\"wikipedia\", \"\")\n",
    "            results = wikipedia.summary(query, sentences=2) \n",
    "            speak(\"According to Wikipedia\")\n",
    "            print(results)\n",
    "            speak(results)\n",
    "        if \"weather\" in query:\n",
    "          speak(\"Sir, which city's weather report you want\")\n",
    "          cty=takeCommand().lower()\n",
    "          search=f\"Weather in {cty}\"\n",
    "          url=f\"https://www.google.com/search?&q={search}\"\n",
    "          r=requests.get(url)\n",
    "          s=BeautifulSoup(r.text,\"html.parser\")\n",
    "          update=s.find('div',class_=\"BNeawe\").text\n",
    "          print(update)\n",
    "          speak(update)\n",
    "        elif 'current time' in query:\n",
    "            strTime = datetime.datetime.now().strftime(\"%H:%M:%S\")    \n",
    "            speak(f\"Sir, the time is {strTime}\")\n",
    "        elif \"i drink water\" in query:\n",
    "            speak(\"Great! I'll remind you to drink water an hour later. Get hydrated yourself!\")\n",
    "            while True:\n",
    "                speak(\"It's time to drink water. Stay hydrated!\")\n",
    "                time.sleep(7200)  # 2 hours in seconds\n",
    "                speak(\"Would you like to stop reminders or continue?\")\n",
    "        elif \"stop\" in query:\n",
    "            speak(\"Okay, I'll stop reminding you to drink water.\")\n",
    "            break\n",
    "        else:\n",
    "            speak(\"Great! I'll remind you to drink water an hour later. Get hydrated yourself!\")\n",
    "            time.sleep(7200)"
   ]
  },
  {
   "cell_type": "code",
   "execution_count": null,
   "id": "79ab610f",
   "metadata": {},
   "outputs": [],
   "source": []
  }
 ],
 "metadata": {
  "kernelspec": {
   "display_name": "Python 3 (ipykernel)",
   "language": "python",
   "name": "python3"
  },
  "language_info": {
   "codemirror_mode": {
    "name": "ipython",
    "version": 3
   },
   "file_extension": ".py",
   "mimetype": "text/x-python",
   "name": "python",
   "nbconvert_exporter": "python",
   "pygments_lexer": "ipython3",
   "version": "3.11.5"
  }
 },
 "nbformat": 4,
 "nbformat_minor": 5
}
